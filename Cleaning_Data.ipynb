{
 "cells": [
  {
   "cell_type": "code",
   "execution_count": null,
   "metadata": {},
   "outputs": [],
   "source": [
    "import pandas as pd\n",
    "# import pymc3 as pm\n",
    "# import numpy as np\n",
    "# import seaborn as sns\n",
    "# import matplotlib.pyplot as plt"
   ]
  },
  {
   "cell_type": "code",
   "execution_count": null,
   "metadata": {},
   "outputs": [],
   "source": [
    "crash = pd.read_csv('./data/CrashData_Basic_With_Roads_BlockGroups_with_time.csv', low_memory=False)\n",
    "crash.rename(columns={\"B01001e1\": \"Block Group Population Estimate\", \"B01001m1\": \"Block Group Population Margin of Error\"}, inplace=True)"
   ]
  },
  {
   "cell_type": "code",
   "execution_count": null,
   "metadata": {},
   "outputs": [],
   "source": [
    "weather_dict = {1: 'No Adverse Conditions',\n",
    "3: 'Fog',\n",
    "4: 'Mist',\n",
    "5: 'Rain',\n",
    "6: 'Snow',\n",
    "7: 'Sleet/Hail',\n",
    "8: 'Smoke/Dust',\n",
    "9: 'Other',\n",
    "10: 'Blowing Sand/Soil/Dirt/Snow',\n",
    "11: 'Severe Crosswinds',\n",
    "99: 'Not Applicable'}"
   ]
  },
  {
   "cell_type": "code",
   "execution_count": null,
   "metadata": {},
   "outputs": [],
   "source": [
    "light_condition = {1: 'Dawn',\n",
    "                   2: 'Daylight',\n",
    "                   3: 'Dusk',\n",
    "                   4: 'Darkness-Road Lighted',\n",
    "                   5: 'Darkness-Road not Lighted',\n",
    "                   6: 'Darkness-Road Lighting Unknown',\n",
    "                   7: 'Unknown'}"
   ]
  },
  {
   "cell_type": "code",
   "execution_count": null,
   "metadata": {},
   "outputs": [],
   "source": [
    "alignment_dict = {1: 'Straight-Level',\n",
    "3: 'Grade-Level',\n",
    "2: 'Curve-Level',\n",
    "4: 'Grade-Curve',\n",
    "5: 'Hillcrest-Straight',\n",
    "6: 'Hillcrest-Curve',\n",
    "7: 'Dip-Straight',\n",
    "8: 'Dip-Curve',\n",
    "9: 'Other',\n",
    "10: 'On/Off Ramp'}"
   ]
  },
  {
   "cell_type": "code",
   "execution_count": null,
   "metadata": {},
   "outputs": [],
   "source": [
    "surface_type = {1: 'Concrete',\n",
    "                   2: 'Blacktop, Asphalt, Bituminous',\n",
    "                   3: 'Brick or Block',\n",
    "                   4: 'Slag, Gravel, Stone',\n",
    "                   5: 'Dirt',\n",
    "                   6: 'Other'}"
   ]
  },
  {
   "cell_type": "code",
   "execution_count": null,
   "metadata": {},
   "outputs": [],
   "source": [
    "defect_dict = {1: 'No Defects',\n",
    "3: 'Soft or Low Shoulder',\n",
    "2: 'Holes, Ruts, Bumps',\n",
    "4: 'Under Repair',\n",
    "5: 'Loose Material',\n",
    "6: 'Restricted Width',\n",
    "7: 'Slick Pavement',\n",
    "8: 'Roadway Obstructed',\n",
    "9: 'Other',\n",
    "10: 'Edge Pavement Dropoff'}"
   ]
  },
  {
   "cell_type": "code",
   "execution_count": null,
   "metadata": {},
   "outputs": [],
   "source": [
    "description_dict = {1: 'Two-Way, Not Divided',\n",
    "3: 'Two-Way, Divided, Positive Median Barrier',\n",
    "2: 'Two-Way, Divided, Unprotected Median',\n",
    "4: 'One-Way, Not Divided',\n",
    "5: 'Other'}"
   ]
  },
  {
   "cell_type": "code",
   "execution_count": null,
   "metadata": {},
   "outputs": [],
   "source": [
    "traffic_status = {1: 'Yes - Working',\n",
    "                   2: 'Yes - Working and Obscured',\n",
    "                   3: 'Yes - Not Working',\n",
    "                   4: 'Yes - Not Working and Obscured',\n",
    "                   5: 'Yes - Missing',\n",
    "                   6: 'No Traffic Control Device Present'}"
   ]
  },
  {
   "cell_type": "code",
   "execution_count": null,
   "metadata": {},
   "outputs": [],
   "source": [
    "workzone_dict = {1: 'Lane Closure',\n",
    "3: 'Work on Shoulder or Median',\n",
    "2: 'Lane Shift/Crossover',\n",
    "4: 'Intermittent or Moving Work',\n",
    "5: 'Other',\n",
    "0: 'Non Workzone'}"
   ]
  },
  {
   "cell_type": "code",
   "execution_count": null,
   "metadata": {},
   "outputs": [],
   "source": [
    "area = {1: 'Urban',\n",
    "        0: 'Rural'}"
   ]
  },
  {
   "cell_type": "code",
   "execution_count": null,
   "metadata": {},
   "outputs": [],
   "source": [
    "severity_dict = {'O': 'Property Damage Only',\n",
    "'B': 'Visible Injury',\n",
    "'C': 'Non Visible Injury',\n",
    "'A': 'Severe Injury',\n",
    "'K': 'Fatal Injury'}"
   ]
  },
  {
   "cell_type": "code",
   "execution_count": null,
   "metadata": {},
   "outputs": [],
   "source": [
    "population = pd.read_csv('population.csv')"
   ]
  },
  {
   "cell_type": "code",
   "execution_count": null,
   "metadata": {},
   "outputs": [],
   "source": [
    "crash.head()"
   ]
  },
  {
   "cell_type": "code",
   "execution_count": null,
   "metadata": {},
   "outputs": [],
   "source": [
    "crash_withpop = pd.merge(crash, population, how='left', left_on = 'COUNTYFP', right_on='CountyFIPS')\n"
   ]
  },
  {
   "cell_type": "code",
   "execution_count": null,
   "metadata": {},
   "outputs": [],
   "source": [
    "crash_withpop"
   ]
  },
  {
   "cell_type": "code",
   "execution_count": null,
   "metadata": {},
   "outputs": [],
   "source": [
    "crash_for_ml = crash_withpop[['CRASH_YEAR', 'WEATHER_CONDITION','LIGHT_CONDITION','ROADWAY_ALIGNMENT',\n",
    "                             'ROADWAY_SURFACE_TYPE','ROADWAY_DEFECT', 'ROADWAY_DESCRIPTION',\n",
    "                              'TRFC_CTRL_STATUS_TYPE','WORK_ZONE_TYPE','AREA_TYPE',\n",
    "                              'Population', \n",
    "                              'CRASH_SEVERITY' ]]"
   ]
  },
  {
   "cell_type": "code",
   "execution_count": null,
   "metadata": {},
   "outputs": [],
   "source": [
    "replace_map = {'WEATHER_CONDITION':weather_dict,\n",
    "              'LIGHT_CONDITION':light_condition,\n",
    "              'ROADWAY_ALIGNMENT':alignment_dict,\n",
    "              'ROADWAY_SURFACE_TYPE':surface_type,\n",
    "              'ROADWAY_DEFECT':defect_dict,\n",
    "              'ROADWAY_DESCRIPTION':description_dict,\n",
    "              'TRFC_CTRL_STATUS_TYPE':traffic_status ,\n",
    "               'WORK_ZONE_TYPE':workzone_dict,\n",
    "               'AREA_TYPE':area,\n",
    "               'CRASH_SEVERITY':severity_dict\n",
    "              }\n",
    "crash_final = crash_for_ml.replace(replace_map)"
   ]
  },
  {
   "cell_type": "code",
   "execution_count": null,
   "metadata": {},
   "outputs": [],
   "source": [
    "crash_final.head()"
   ]
  },
  {
   "cell_type": "code",
   "execution_count": null,
   "metadata": {},
   "outputs": [],
   "source": [
    "crash_final.columns.tolist()\n"
   ]
  },
  {
   "cell_type": "code",
   "execution_count": null,
   "metadata": {},
   "outputs": [],
   "source": [
    "crash_final.to_csv('./data/crash_final.csv', index=False)"
   ]
  },
  {
   "cell_type": "code",
   "execution_count": null,
   "metadata": {},
   "outputs": [],
   "source": []
  }
 ],
 "metadata": {
  "kernelspec": {
   "display_name": "Python 3.9.12 ('UVACapstone')",
   "language": "python",
   "name": "python3"
  },
  "language_info": {
   "codemirror_mode": {
    "name": "ipython",
    "version": 3
   },
   "file_extension": ".py",
   "mimetype": "text/x-python",
   "name": "python",
   "nbconvert_exporter": "python",
   "pygments_lexer": "ipython3",
   "version": "3.9.12"
  },
  "vscode": {
   "interpreter": {
    "hash": "1320d6b9c24963eeab91ed3c1b469bbfc0dc38b81cdaee0abc39ad090f12f690"
   }
  }
 },
 "nbformat": 4,
 "nbformat_minor": 4
}
